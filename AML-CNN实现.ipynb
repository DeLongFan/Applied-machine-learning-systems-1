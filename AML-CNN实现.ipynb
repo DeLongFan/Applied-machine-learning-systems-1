{
 "cells": [
  {
   "cell_type": "code",
   "execution_count": 1,
   "id": "fdea70e6",
   "metadata": {},
   "outputs": [],
   "source": [
    "import numpy as np\n",
    "import cv2\n",
    "import pandas as pd\n",
    "import matplotlib.pyplot as plt\n",
    "import skimage.io as io\n",
    "import time\n",
    "from tensorflow.keras.models import Sequential\n",
    "from tensorflow.keras.layers import Dense,Dropout,Conv2D,MaxPooling2D,Flatten\n",
    "from tensorflow.keras.callbacks import TensorBoard,ModelCheckpoint\n",
    "from tensorflow.keras.models import load_model"
   ]
  },
  {
   "cell_type": "code",
   "execution_count": 2,
   "id": "b1429b40",
   "metadata": {},
   "outputs": [],
   "source": [
    "#对读入的训练csv进行有效数据拆分，表头重命名,\n",
    "raw_data_train=pd.read_csv(r\"C:\\Users\\fdl\\Desktop\\AML\\cartoon_set\\labels.csv\",names=[\"mixed_information_train\"])\n",
    "data_unmixed_train = raw_data_train[\"mixed_information_train\"].str.split(\"\\t\",expand=True)\n",
    "data_unmixed_train.columns=['index','eye_color','face_shape','file_name']\n",
    "data_unmixed_train.drop(columns=['index','eye_color','file_name'],inplace=True)\n",
    "data_unmixed_train.drop(index=0,inplace=True)\n",
    "#data_unmixed_train\n",
    "#对读入的测试集结果进行相同的处理\n",
    "raw_data_test=pd.read_csv(r\"C:\\Users\\fdl\\Desktop\\AML\\dataset_AMLS_22-23_test\\cartoon_set_test\\labels.csv\",names=[\"mixed_information_test\"])\n",
    "data_unmixed_test = raw_data_test[\"mixed_information_test\"].str.split(\"\\t\",expand=True)\n",
    "data_unmixed_test.columns=['index','eye_color','face_shape','file_name']\n",
    "data_unmixed_test.drop(columns=['index','eye_color','file_name'],inplace=True)\n",
    "data_unmixed_test.drop(index=0,inplace=True)\n",
    "#data_unmixed_test\n",
    "raw_data_newlabel=pd.read_csv(r\"C:\\Users\\fdl\\Desktop\\AML\\cartoon_set\\Lable.csv\",names=[\"sunglass\"])\n",
    "#raw_data_newlabel.head()"
   ]
  },
  {
   "cell_type": "code",
   "execution_count": 3,
   "id": "91a73e44",
   "metadata": {},
   "outputs": [],
   "source": [
    "#将训练和测试的结果存储为数组\n",
    "YTrain=data_unmixed_train\n",
    "YTest=data_unmixed_test\n",
    "YTrain=YTrain.values\n",
    "YTest=YTest.values\n",
    "YTrain=np.array([int(y) for y in YTrain])\n",
    "YTest=np.array([int(y) for y in YTest])\n",
    "YTrain=YTrain.reshape(len(YTrain),1)\n",
    "YTest=YTest.reshape(len(YTest),1)\n",
    "#np.array(YTrain).shape,np.array(YTest).shape"
   ]
  },
  {
   "cell_type": "code",
   "execution_count": 4,
   "id": "fbfe4af8",
   "metadata": {},
   "outputs": [],
   "source": [
    "XTrain=[]\n",
    "XTest=[]\n",
    "str_train= r\"C:\\Users\\fdl\\Desktop\\AML\\cartoon_set\\img\\*.png\"\n",
    "str_test= r\"C:\\Users\\fdl\\Desktop\\AML\\dataset_AMLS_22-23_test\\cartoon_set_test\\img\\*.png\"\n",
    "coll_train = io.ImageCollection(str_train)\n",
    "coll_test = io.ImageCollection(str_test)\n",
    "for img in coll_train:\n",
    "    intern_train=cv2.resize(img, (100,100))\n",
    "    XTrain.append(intern_train)\n",
    "XTrain=np.array(XTrain)/255\n",
    "for img in coll_test:\n",
    "    intern_test=cv2.resize(img, (100,100))\n",
    "    XTest.append(intern_test)\n",
    "XTest=np.array(XTest)/255"
   ]
  },
  {
   "cell_type": "code",
   "execution_count": null,
   "id": "fc60b5b9",
   "metadata": {},
   "outputs": [
    {
     "name": "stdout",
     "output_type": "stream",
     "text": [
      "logs/log_3_fully_3_unit_100_conv_1672686358\n",
      "models/model_3_fully_3_unit_100_{epoch:02d}-{val_accuracy:.2f}.hdf5\n",
      "Epoch 1/5\n",
      "282/282 [==============================] - 51s 177ms/step - loss: 1.2689 - accuracy: 0.3972 - val_loss: 0.1034 - val_accuracy: 0.9790\n",
      "Epoch 2/5\n",
      "282/282 [==============================] - 51s 182ms/step - loss: 0.0642 - accuracy: 0.9793 - val_loss: 0.0209 - val_accuracy: 0.9960\n",
      "Epoch 3/5\n",
      "282/282 [==============================] - 52s 184ms/step - loss: 0.0181 - accuracy: 0.9940 - val_loss: 0.0088 - val_accuracy: 0.9970\n",
      "Epoch 4/5\n",
      "265/282 [===========================>..] - ETA: 3s - loss: 0.0145 - accuracy: 0.9955"
     ]
    }
   ],
   "source": [
    "conv_num=[3]\n",
    "fully_connected_layer_num=[3]\n",
    "unit_count=[100]\n",
    "for conv in conv_num:\n",
    "    for fully_connected_layer in fully_connected_layer_num:\n",
    "        for unit in unit_count:\n",
    "            logs_file=f'logs/log_{conv}_fully_{fully_connected_layer}_unit_{unit}_conv_{int(time.time())}'\n",
    "            tensorboard=TensorBoard(log_dir=logs_file)\n",
    "            #checkpoint\n",
    "            checkpoint_filepath=f'models/model_{conv}_fully_{fully_connected_layer}_unit_{unit}_'+'{epoch:02d}-{val_accuracy:.2f}.hdf5'\n",
    "            print(logs_file)\n",
    "            print(checkpoint_filepath)\n",
    "            checkpoint=ModelCheckpoint(filepath=checkpoint_filepath,monitor='val_accuracy',model='max',save_best_only=True,verbose=1)\n",
    "            model=Sequential()\n",
    "            \n",
    "            #convloution layer\n",
    "            model.add(Conv2D(unit,(5,5),activation='relu'))\n",
    "            #Maxpooling layer\n",
    "            model.add(MaxPooling2D(pool_size=(3,3)))\n",
    "            for i in range(conv-1):\n",
    "                #convloution layer\n",
    "                model.add(Conv2D(unit,(5,5),activation='relu'))\n",
    "                model.add(MaxPooling2D(pool_size=(3,3)))\n",
    "            #Flatten layer\n",
    "            model.add(Flatten())\n",
    "            #fully connected layer\n",
    "            for i in range(fully_connected_layer):\n",
    "                model.add(Dense(unit,activation='relu'))\n",
    "            #output layer\n",
    "            model.add(Dense(5,activation='softmax'))\n",
    "            #compile\n",
    "            model.compile(optimizer='adam',loss='sparse_categorical_crossentropy',metrics='accuracy')\n",
    "            #fit\n",
    "            model.fit(XTrain,YTrain,batch_size=32,epochs=5,validation_split=0.1,callbacks=[tensorboard])"
   ]
  },
  {
   "cell_type": "code",
   "execution_count": 73,
   "id": "a8e03332",
   "metadata": {},
   "outputs": [
    {
     "name": "stdout",
     "output_type": "stream",
     "text": [
      "Model: \"sequential_21\"\n",
      "_________________________________________________________________\n",
      " Layer (type)                Output Shape              Param #   \n",
      "=================================================================\n",
      " conv2d_21 (Conv2D)          (100, 48, 48, 100)        3700      \n",
      "                                                                 \n",
      " max_pooling2d_20 (MaxPoolin  (100, 24, 24, 100)       0         \n",
      " g2D)                                                            \n",
      "                                                                 \n",
      " flatten_19 (Flatten)        (100, 57600)              0         \n",
      "                                                                 \n",
      " dense_40 (Dense)            (100, 100)                5760100   \n",
      "                                                                 \n",
      " dense_41 (Dense)            (100, 5)                  505       \n",
      "                                                                 \n",
      "=================================================================\n",
      "Total params: 5,764,305\n",
      "Trainable params: 5,764,305\n",
      "Non-trainable params: 0\n",
      "_________________________________________________________________\n"
     ]
    }
   ],
   "source": [
    "model.summary()"
   ]
  },
  {
   "cell_type": "code",
   "execution_count": null,
   "id": "1e95e5a2",
   "metadata": {},
   "outputs": [],
   "source": []
  }
 ],
 "metadata": {
  "kernelspec": {
   "display_name": "Python 3 (ipykernel)",
   "language": "python",
   "name": "python3"
  },
  "language_info": {
   "codemirror_mode": {
    "name": "ipython",
    "version": 3
   },
   "file_extension": ".py",
   "mimetype": "text/x-python",
   "name": "python",
   "nbconvert_exporter": "python",
   "pygments_lexer": "ipython3",
   "version": "3.9.12"
  }
 },
 "nbformat": 4,
 "nbformat_minor": 5
}

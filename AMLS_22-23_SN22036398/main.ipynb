{
 "cells": [
  {
   "cell_type": "code",
   "execution_count": 1,
   "id": "83c33da2",
   "metadata": {},
   "outputs": [
    {
     "name": "stdout",
     "output_type": "stream",
     "text": [
      "importing Jupyter notebook from C:\\Users\\fdl\\Desktop\\AMLS_22-23_SN22036398\\A1\\A1_Logistic_Regression.ipynb\n",
      "TaskA1: Accuracy of Logistic Regression is 0.871\n",
      "importing Jupyter notebook from C:\\Users\\fdl\\Desktop\\AMLS_22-23_SN22036398\\A1\\A1_Support_Vector_Machine.ipynb\n",
      "TaskA1: Accuracy of Support Vector Machine is 0.904\n",
      "importing Jupyter notebook from C:\\Users\\fdl\\Desktop\\AMLS_22-23_SN22036398\\A2\\A2_Logistic_Regression.ipynb\n",
      "TaskA2: Accuracy of Logistic Regression is 0.868\n",
      "importing Jupyter notebook from C:\\Users\\fdl\\Desktop\\AMLS_22-23_SN22036398\\A2\\A2_Support_Vector_Machine.ipynb\n",
      "TaskA2: Accuracy of Support Vector Machine is 0.872\n"
     ]
    }
   ],
   "source": [
    "import import_ipynb\n",
    "import A1.A1_Logistic_Regression\n",
    "import A1.A1_Support_Vector_Machine\n",
    "import A2.A2_Logistic_Regression\n",
    "import A2.A2_Support_Vector_Machine"
   ]
  },
  {
   "cell_type": "code",
   "execution_count": 2,
   "id": "1a7d4dfe",
   "metadata": {
    "scrolled": true
   },
   "outputs": [
    {
     "name": "stdout",
     "output_type": "stream",
     "text": [
      "importing Jupyter notebook from C:\\Users\\fdl\\Desktop\\AMLS_22-23_SN22036398\\B1\\B1_Fully_Connected_Neural_Network.ipynb\n",
      "Epoch 1/5\n",
      "157/157 [==============================] - 2s 1ms/step - loss: 0.3801 - accuracy: 0.8707\n",
      "Epoch 2/5\n",
      "157/157 [==============================] - 0s 1ms/step - loss: 0.0199 - accuracy: 0.9946\n",
      "Epoch 3/5\n",
      "157/157 [==============================] - 0s 1ms/step - loss: 0.0102 - accuracy: 0.9970\n",
      "Epoch 4/5\n",
      "157/157 [==============================] - 0s 1ms/step - loss: 0.0094 - accuracy: 0.9975\n",
      "Epoch 5/5\n",
      "157/157 [==============================] - 0s 1ms/step - loss: 0.0018 - accuracy: 0.9997\n",
      "79/79 [==============================] - 0s 778us/step\n",
      "TaskB1: Accuracy of Fully Connected Neural Network is 0.9964\n",
      "importing Jupyter notebook from C:\\Users\\fdl\\Desktop\\AMLS_22-23_SN22036398\\B1\\B1_Convolutional_Neural_Network.ipynb\n",
      "logs/log_3_fully_4_unit_100_conv_1673605992\n",
      "models/model_3_fully_4_unit_100_{epoch:02d}-{val_accuracy:.2f}.hdf5\n",
      "Epoch 1/5\n",
      "313/313 [==============================] - 41s 127ms/step - loss: 0.9395 - accuracy: 0.5638\n",
      "Epoch 2/5\n",
      "313/313 [==============================] - 42s 133ms/step - loss: 0.0697 - accuracy: 0.9779\n",
      "Epoch 3/5\n",
      "313/313 [==============================] - 42s 134ms/step - loss: 0.0245 - accuracy: 0.9919\n",
      "Epoch 4/5\n",
      "313/313 [==============================] - 42s 134ms/step - loss: 0.0237 - accuracy: 0.9925\n",
      "Epoch 5/5\n",
      "313/313 [==============================] - 42s 134ms/step - loss: 0.0056 - accuracy: 0.9981\n",
      "79/79 [==============================] - 4s 44ms/step\n",
      "TaskB1: Accuracy of Convolutional Neural Network is 0.9996\n",
      "importing Jupyter notebook from C:\\Users\\fdl\\Desktop\\AMLS_22-23_SN22036398\\B2\\B2_Fully_Connected_Neural_Network.ipynb\n"
     ]
    },
    {
     "name": "stderr",
     "output_type": "stream",
     "text": [
      "<string>:80: DataConversionWarning: A column-vector y was passed when a 1d array was expected. Please change the shape of y to (n_samples,), for example using ravel().\n"
     ]
    },
    {
     "name": "stdout",
     "output_type": "stream",
     "text": [
      "Epoch 1/5\n",
      "128/128 [==============================] - 1s 2ms/step - loss: 0.7422 - accuracy: 0.7031\n",
      "Epoch 2/5\n",
      "128/128 [==============================] - 0s 2ms/step - loss: 0.1416 - accuracy: 0.9517\n",
      "Epoch 3/5\n",
      "128/128 [==============================] - 0s 2ms/step - loss: 0.0467 - accuracy: 0.9861\n",
      "Epoch 4/5\n",
      "128/128 [==============================] - 0s 2ms/step - loss: 0.0248 - accuracy: 0.9913\n",
      "Epoch 5/5\n",
      "128/128 [==============================] - 0s 2ms/step - loss: 0.0185 - accuracy: 0.9957\n",
      "64/64 [==============================] - 0s 1ms/step\n",
      "TaskB2: Accuracy of Fully Connected Neural Network is 0.9493359567142154\n",
      "importing Jupyter notebook from C:\\Users\\fdl\\Desktop\\AMLS_22-23_SN22036398\\B2\\B2_Convolutional_Neural_Network.ipynb\n"
     ]
    },
    {
     "name": "stderr",
     "output_type": "stream",
     "text": [
      "<string>:4: DataConversionWarning: A column-vector y was passed when a 1d array was expected. Please change the shape of y to (n_samples,), for example using ravel().\n"
     ]
    },
    {
     "name": "stdout",
     "output_type": "stream",
     "text": [
      "logs/log_3_fully_4_unit_100_conv_1673606313\n",
      "models/model_3_fully_4_unit_100_{epoch:02d}-{val_accuracy:.2f}.hdf5\n",
      "Epoch 1/5\n",
      "255/255 [==============================] - 9s 29ms/step - loss: 1.0068 - accuracy: 0.5639\n",
      "Epoch 2/5\n",
      "255/255 [==============================] - 7s 29ms/step - loss: 0.3901 - accuracy: 0.8754\n",
      "Epoch 3/5\n",
      "255/255 [==============================] - 8s 30ms/step - loss: 0.3017 - accuracy: 0.9085\n",
      "Epoch 4/5\n",
      "255/255 [==============================] - 7s 28ms/step - loss: 0.1991 - accuracy: 0.9526\n",
      "Epoch 5/5\n",
      "255/255 [==============================] - 7s 28ms/step - loss: 0.1623 - accuracy: 0.9587\n",
      "64/64 [==============================] - 1s 10ms/step\n",
      "TaskB2: Accuracy of Convolutional Neural Network is 0.9640924741760944\n"
     ]
    }
   ],
   "source": [
    "import B1.B1_Fully_Connected_Neural_Network\n",
    "import B1.B1_Convolutional_Neural_Network\n",
    "import B2.B2_Fully_Connected_Neural_Network\n",
    "import B2.B2_Convolutional_Neural_Network"
   ]
  },
  {
   "cell_type": "code",
   "execution_count": null,
   "id": "83e83188",
   "metadata": {},
   "outputs": [],
   "source": []
  }
 ],
 "metadata": {
  "kernelspec": {
   "display_name": "Python 3 (ipykernel)",
   "language": "python",
   "name": "python3"
  },
  "language_info": {
   "codemirror_mode": {
    "name": "ipython",
    "version": 3
   },
   "file_extension": ".py",
   "mimetype": "text/x-python",
   "name": "python",
   "nbconvert_exporter": "python",
   "pygments_lexer": "ipython3",
   "version": "3.9.12"
  }
 },
 "nbformat": 4,
 "nbformat_minor": 5
}

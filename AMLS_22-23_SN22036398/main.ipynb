{
 "cells": [
  {
   "cell_type": "code",
   "execution_count": null,
   "id": "83c33da2",
   "metadata": {},
   "outputs": [
    {
     "name": "stdout",
     "output_type": "stream",
     "text": [
      "importing Jupyter notebook from C:\\Users\\fdl\\Desktop\\AMLS_22-23_SN22036398\\A1\\A1_Logistic_Regression.ipynb\n"
     ]
    }
   ],
   "source": [
    "import import_ipynb\n",
    "import A1.A1_Logistic_Regression\n",
    "import A1.A1_Support_Vector_Machine\n",
    "import A2.A2_Logistic_Regression\n",
    "import A2.A2_Support_Vector_Machine"
   ]
  },
  {
   "cell_type": "code",
   "execution_count": null,
   "id": "1a7d4dfe",
   "metadata": {
    "scrolled": true
   },
   "outputs": [],
   "source": [
    "import B1.B1_Fully_Connected_Neural_Network\n",
    "import B1.B1_Convolutional_Neural_Network\n",
    "import B2.B2_Fully_Connected_Neural_Network\n",
    "import B2.B2_Convolutional_Neural_Network"
   ]
  },
  {
   "cell_type": "code",
   "execution_count": null,
   "id": "83e83188",
   "metadata": {},
   "outputs": [],
   "source": []
  }
 ],
 "metadata": {
  "kernelspec": {
   "display_name": "Python 3 (ipykernel)",
   "language": "python",
   "name": "python3"
  },
  "language_info": {
   "codemirror_mode": {
    "name": "ipython",
    "version": 3
   },
   "file_extension": ".py",
   "mimetype": "text/x-python",
   "name": "python",
   "nbconvert_exporter": "python",
   "pygments_lexer": "ipython3",
   "version": "3.9.12"
  }
 },
 "nbformat": 4,
 "nbformat_minor": 5
}
